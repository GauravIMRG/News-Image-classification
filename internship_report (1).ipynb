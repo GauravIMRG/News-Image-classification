{
  "nbformat": 4,
  "nbformat_minor": 0,
  "metadata": {
    "colab": {
      "provenance": []
    },
    "kernelspec": {
      "name": "python3",
      "display_name": "Python 3"
    },
    "language_info": {
      "name": "python"
    }
  },
  "cells": [
    {
      "cell_type": "code",
      "source": [
        " import nltk\n",
        " nltk.download('stopwords')"
      ],
      "metadata": {
        "colab": {
          "base_uri": "https://localhost:8080/"
        },
        "id": "mwFZDCKjyXCu",
        "outputId": "77ea3a7a-2c3c-4cd3-a544-60c4a976f234"
      },
      "execution_count": 1,
      "outputs": [
        {
          "output_type": "stream",
          "name": "stderr",
          "text": [
            "[nltk_data] Downloading package stopwords to /root/nltk_data...\n",
            "[nltk_data]   Package stopwords is already up-to-date!\n"
          ]
        },
        {
          "output_type": "execute_result",
          "data": {
            "text/plain": [
              "True"
            ]
          },
          "metadata": {},
          "execution_count": 1
        }
      ]
    },
    {
      "cell_type": "code",
      "source": [
        "import string\n",
        "from nltk.corpus import stopwords\n",
        "from nltk.tokenize import word_tokenize\n",
        "stops=set(stopwords.words('english'))\n",
        "punctuations=list(string.punctuation)\n",
        "stops.update(punctuations)"
      ],
      "metadata": {
        "id": "D_JGWVa-yC-r"
      },
      "execution_count": 2,
      "outputs": []
    },
    {
      "cell_type": "code",
      "source": [
        "nltk.download('punkt')"
      ],
      "metadata": {
        "colab": {
          "base_uri": "https://localhost:8080/"
        },
        "id": "YJt5weaxykpJ",
        "outputId": "d25ee62a-a47e-4390-9cef-64031b1d1d98"
      },
      "execution_count": 3,
      "outputs": [
        {
          "output_type": "stream",
          "name": "stderr",
          "text": [
            "[nltk_data] Downloading package punkt to /root/nltk_data...\n",
            "[nltk_data]   Package punkt is already up-to-date!\n"
          ]
        },
        {
          "output_type": "execute_result",
          "data": {
            "text/plain": [
              "True"
            ]
          },
          "metadata": {},
          "execution_count": 3
        }
      ]
    },
    {
      "cell_type": "code",
      "source": [
        "!unzip /content/drive/MyDrive/text_classification.zip -d text_classification"
      ],
      "metadata": {
        "id": "bh-nfUHpDRxl"
      },
      "execution_count": null,
      "outputs": []
    },
    {
      "cell_type": "code",
      "source": [
        "#Our data is in a folder named 20_newsgroups , which contains 20 different folders corresponding to each news category\n",
        "#and each folder contains large number of news articles\n",
        "\n",
        "# We first extract name of each folder so that we can easily specify the path to the text file\n",
        "import glob\n",
        "import os\n",
        "\n",
        "path=r\"/content/text_classification/text classification/20_newsgroups-20230822T171546Z-001/20_newsgroups\"\n",
        "\n",
        "os.chdir(path)\n",
        "news20 = glob.glob('*') # we get the names of all 20 folders\n",
        "\n",
        "Listofarticles=[]\n",
        "categoryofarticle=[]\n",
        "news20"
      ],
      "metadata": {
        "colab": {
          "base_uri": "https://localhost:8080/"
        },
        "id": "bG9WhX_00r1G",
        "outputId": "05c63a50-83b7-48b4-b84e-3e3944d5a7ad"
      },
      "execution_count": 7,
      "outputs": [
        {
          "output_type": "execute_result",
          "data": {
            "text/plain": [
              "['talk.politics.misc',\n",
              " 'rec.sport.hockey',\n",
              " 'misc.forsale',\n",
              " 'rec.sport.baseball',\n",
              " 'talk.politics.guns',\n",
              " 'sci.med',\n",
              " 'comp.graphics',\n",
              " 'comp.sys.mac.hardware',\n",
              " 'comp.sys.ibm.pc.hardware',\n",
              " 'comp.os.ms-windows.misc',\n",
              " 'comp.windows.x',\n",
              " 'sci.crypt',\n",
              " 'talk.politics.mideast',\n",
              " 'alt.atheism',\n",
              " 'rec.motorcycles',\n",
              " 'sci.electronics',\n",
              " 'rec.autos',\n",
              " 'talk.religion.misc',\n",
              " 'soc.religion.christian',\n",
              " 'sci.space']"
            ]
          },
          "metadata": {},
          "execution_count": 7
        }
      ]
    },
    {
      "cell_type": "code",
      "source": [
        "i=0\n",
        "import time\n",
        "\n",
        "# store starting time\n",
        "begin = time.time()\n",
        "i=1\n",
        "for news in news20:\n",
        "    os.chdir(path + \"/\" + news)\n",
        "    current_folder = glob.glob('*')\n",
        "    print(\"Folder name \",news,\"    \" , \"Number of articles\", len(current_folder))\n",
        "    for articles in current_folder:\n",
        "        categoryofarticle.append(i)\n",
        "        file_obj = open(path+\"/\"+ news + \"/\" + articles,encoding='latin-1' )\n",
        "        file_data = file_obj.read()\n",
        "        Listofarticles.append(file_data)\n",
        "    i+=1\n",
        "#stores end time\n",
        "end = time.time()\n",
        "\n",
        "print(\"Time took for process\" , end -begin)\n",
        "\n",
        ""
      ],
      "metadata": {
        "colab": {
          "base_uri": "https://localhost:8080/"
        },
        "id": "IYL0EdiqFitC",
        "outputId": "29cf7838-7ab2-4f94-ae6b-561b5986e7a7"
      },
      "execution_count": 8,
      "outputs": [
        {
          "output_type": "stream",
          "name": "stdout",
          "text": [
            "Folder name  talk.politics.misc      Number of articles 1000\n",
            "Folder name  rec.sport.hockey      Number of articles 1000\n",
            "Folder name  misc.forsale      Number of articles 1000\n",
            "Folder name  rec.sport.baseball      Number of articles 1000\n",
            "Folder name  talk.politics.guns      Number of articles 1000\n",
            "Folder name  sci.med      Number of articles 1000\n",
            "Folder name  comp.graphics      Number of articles 1010\n",
            "Folder name  comp.sys.mac.hardware      Number of articles 1000\n",
            "Folder name  comp.sys.ibm.pc.hardware      Number of articles 1000\n",
            "Folder name  comp.os.ms-windows.misc      Number of articles 1000\n",
            "Folder name  comp.windows.x      Number of articles 1000\n",
            "Folder name  sci.crypt      Number of articles 1000\n",
            "Folder name  talk.politics.mideast      Number of articles 1000\n",
            "Folder name  alt.atheism      Number of articles 1000\n",
            "Folder name  rec.motorcycles      Number of articles 1010\n",
            "Folder name  sci.electronics      Number of articles 1000\n",
            "Folder name  rec.autos      Number of articles 1000\n",
            "Folder name  talk.religion.misc      Number of articles 1000\n",
            "Folder name  soc.religion.christian      Number of articles 997\n",
            "Folder name  sci.space      Number of articles 1000\n",
            "Time took for process 0.9916861057281494\n"
          ]
        }
      ]
    },
    {
      "cell_type": "code",
      "source": [
        "print(len(Listofarticles))"
      ],
      "metadata": {
        "colab": {
          "base_uri": "https://localhost:8080/"
        },
        "id": "7h6aUeYCKj3r",
        "outputId": "4bc2a84b-155a-4595-c547-d7d8df776d24"
      },
      "execution_count": 9,
      "outputs": [
        {
          "output_type": "stream",
          "name": "stdout",
          "text": [
            "20017\n"
          ]
        }
      ]
    },
    {
      "cell_type": "code",
      "source": [
        "type(Listofarticles)"
      ],
      "metadata": {
        "colab": {
          "base_uri": "https://localhost:8080/"
        },
        "id": "ZNzM0CwhWJGe",
        "outputId": "4d61fad4-305b-47db-b103-ead0959963b1"
      },
      "execution_count": 17,
      "outputs": [
        {
          "output_type": "execute_result",
          "data": {
            "text/plain": [
              "list"
            ]
          },
          "metadata": {},
          "execution_count": 17
        }
      ]
    },
    {
      "cell_type": "code",
      "source": [
        "tokenized_articles=[word_tokenize(ele) for ele in Listofarticles ]"
      ],
      "metadata": {
        "id": "FXN4D-lTL6JH"
      },
      "execution_count": 10,
      "outputs": []
    },
    {
      "cell_type": "code",
      "source": [
        "type(tokenized_articles[0])"
      ],
      "metadata": {
        "colab": {
          "base_uri": "https://localhost:8080/"
        },
        "id": "ePOmg2aoVerg",
        "outputId": "1904c935-976f-4519-9ddc-35696bf3403d"
      },
      "execution_count": 18,
      "outputs": [
        {
          "output_type": "execute_result",
          "data": {
            "text/plain": [
              "list"
            ]
          },
          "metadata": {},
          "execution_count": 18
        }
      ]
    },
    {
      "cell_type": "code",
      "source": [
        "from sklearn.model_selection import train_test_split\n",
        "import numpy as np\n",
        "from sklearn.naive_bayes import MultinomialNB\n",
        "\n",
        "traindoc, testdoc, traincategory, testcategory=train_test_split(tokenized_articles, categoryofarticle, random_state=1)"
      ],
      "metadata": {
        "id": "iLCXC5YHTI_u"
      },
      "execution_count": 12,
      "outputs": []
    },
    {
      "cell_type": "code",
      "source": [],
      "metadata": {
        "id": "QUHRJkMDl-Tl"
      },
      "execution_count": null,
      "outputs": []
    },
    {
      "cell_type": "code",
      "source": [
        "allwords=[]\n",
        "\n",
        "# dont't include words with length 1 and 2\n",
        "# and they might either be the stops which are not there in \"stops\" variable or some punctuation marks which are\n",
        "# not there in \"punctuations\" variable. apart from the words of length 1 and 2 i have also removed some words\n",
        "# separately because these words are most probably present in all the documents so they are not helping us much in\n",
        "# classification.\n",
        "\n",
        "for doc in traindoc:\n",
        "    for word in doc:\n",
        "        if (word.lower() not in stops) and len(word)!=1 and len(word)!=2 and word[0]!=\"'\" and word!=\"n't\" and word[0]!=\".\":\n",
        "            allwords.append(word)\n",
        "\n",
        "len(allwords)\n",
        ""
      ],
      "metadata": {
        "colab": {
          "base_uri": "https://localhost:8080/"
        },
        "id": "ehHfvjBITRZ9",
        "outputId": "d0c2ea17-a083-4c97-8921-507f106c28b7"
      },
      "execution_count": 19,
      "outputs": [
        {
          "output_type": "execute_result",
          "data": {
            "text/plain": [
              "2827729"
            ]
          },
          "metadata": {},
          "execution_count": 19
        }
      ]
    },
    {
      "cell_type": "code",
      "source": [
        "#This function accepts a list and returns a dictionary in which keys are the particular words in the list and values are\n",
        "# the frequency of that element in that list.\n",
        "def freq_dict(all_words):\n",
        "    dic=dict()\n",
        "    #it iterates through all the elements in the list and increases the frequency by one if it encounters the same element again.\n",
        "    for word in all_words:\n",
        "        if word in dic.keys():\n",
        "            dic[word]+=1\n",
        "        else:\n",
        "            dic[word]=1\n",
        "    return dic\n",
        "\n",
        "dic=freq_dict(allwords)\n",
        "#Now in the \"dic\" variable we have the frequencies of all the elements of the list \"all words\"."
      ],
      "metadata": {
        "id": "Nwx5PDAgaK5H"
      },
      "execution_count": 21,
      "outputs": []
    },
    {
      "cell_type": "code",
      "source": [
        "import numpy as np\n",
        "#I have imported numpy because my plan is to get the elements in dic.keys() and dic.values() to two separate variables\n",
        "# namely \"freq\" and \"words\". and then i will arrange them in a decreasing fashion of frequency.\n",
        "freq=np.array([i for i in dic.values()])\n",
        "words=np.array([i for i in dic.keys()])"
      ],
      "metadata": {
        "id": "ZTeyDSJUa6ed"
      },
      "execution_count": 22,
      "outputs": []
    },
    {
      "cell_type": "code",
      "source": [
        "words=words[np.argsort(freq)][::-1]\n",
        "freq=np.sort(freq)[::-1]\n",
        "#now i have sorted both the arrays and first arranged them in ascending order using np.sort() and np.argsort() and then i have\n",
        "# reversed the so obtained array to get a descending ordered array."
      ],
      "metadata": {
        "id": "J5s81fTQbsTL"
      },
      "execution_count": 23,
      "outputs": []
    },
    {
      "cell_type": "code",
      "source": [
        "words[0:20]\n",
        "freq[0:20]\n"
      ],
      "metadata": {
        "colab": {
          "base_uri": "https://localhost:8080/"
        },
        "id": "7Jiek9Z2dh_e",
        "outputId": "eddb932e-46dd-4861-fea9-9276dc198c11"
      },
      "execution_count": 27,
      "outputs": [
        {
          "output_type": "execute_result",
          "data": {
            "text/plain": [
              "array([19570, 15495, 15225, 15149, 15076, 15071, 15061, 14722, 14533,\n",
              "       13338, 12295, 11153, 10996, 10104,  9423,  9282,  8205,  8163,\n",
              "        7355,  7350])"
            ]
          },
          "metadata": {},
          "execution_count": 27
        }
      ]
    },
    {
      "cell_type": "code",
      "source": [
        "#This cell draws a frequency distribution graph for us to from where we can carefully observe the frequency trend of out list.\n",
        "import matplotlib.pyplot as plt\n",
        "#following are the limits for our graph.\n",
        "lower_limit=0    #default\n",
        "upper_limit=3000    #default\n",
        "difference_between_each_xtick=50  #default value. change these values to observe the graph in more depth\n",
        "#adjusting size of the graph for more clearity.\n",
        "plt.figure(figsize=(20, 7))\n",
        "#plotting\n",
        "plt.plot(np.arange(len(freq))[lower_limit:upper_limit], freq[lower_limit:upper_limit])\n",
        "#labelling\n",
        "plt.xlabel('Words(\"nth word\")--->')\n",
        "plt.ylabel(\"Frequency--->\")\n",
        "#adjusting the xticks\n",
        "plt.xticks(np.arange(lower_limit, upper_limit, 50), rotation=45)\n",
        "plt.grid()\n",
        "plt.show()\n",
        "#observe the following graph by changing the values of lower_limit, upper_limit and difference_between_each_xtick."
      ],
      "metadata": {
        "colab": {
          "base_uri": "https://localhost:8080/",
          "height": 396
        },
        "id": "jc7A1sxub1JK",
        "outputId": "b1905fcb-f002-4986-b4d4-51a8ef3bf28e"
      },
      "execution_count": 24,
      "outputs": [
        {
          "output_type": "display_data",
          "data": {
            "text/plain": [
              "<Figure size 2000x700 with 1 Axes>"
            ],
            "image/png": "[encoded data removed]"
          },
          "metadata": {}
        }
      ]
    },
    {
      "cell_type": "code",
      "source": [
        "features=words[50:4000]\n",
        "len(features)"
      ],
      "metadata": {
        "colab": {
          "base_uri": "https://localhost:8080/"
        },
        "id": "imlSbi3ZcZ3W",
        "outputId": "bf830a59-4ff9-4012-e805-7346ba906240"
      },
      "execution_count": 28,
      "outputs": [
        {
          "output_type": "execute_result",
          "data": {
            "text/plain": [
              "3950"
            ]
          },
          "metadata": {},
          "execution_count": 28
        }
      ]
    },
    {
      "cell_type": "code",
      "source": [
        "len(words)"
      ],
      "metadata": {
        "colab": {
          "base_uri": "https://localhost:8080/"
        },
        "id": "X42sBDEzfKkl",
        "outputId": "dc2cf7ac-ad3c-4213-b39d-2ec646973bce"
      },
      "execution_count": 31,
      "outputs": [
        {
          "output_type": "execute_result",
          "data": {
            "text/plain": [
              "264512"
            ]
          },
          "metadata": {},
          "execution_count": 31
        }
      ]
    },
    {
      "cell_type": "code",
      "source": [
        "# This function is the backbone of our Text Classification.\n",
        "# It takes the patameters x_train or x_test and the list of all features and converts it into a TEXT-CLASSIFICATION-FRIENDLY structure.\n",
        "# By text-classification-friendly, I mean it converts the data into a 2-D array which contains the frequency of that feature\n",
        "# in that perticular document. where rows are the documents and columns are the features.\n",
        "def data_modifier(x_data, features):\n",
        "    modified_data=np.zeros((len(x_data), len(features)))\n",
        "    #modified_data currently have a ZEROS numpy array whose shape is (len(x_data), len(features))\n",
        "    count=0\n",
        "    #Ignore this \"Count\" variable. i have created it just to keep an eye on the progress of our algorithm.\n",
        "    max_count=len(x_data)\n",
        "    for i in range(len(x_data)):\n",
        "        #looping over each and every row in the x_data\n",
        "        current_doc=x_data[i]\n",
        "        #current_doc contains the current document on which we are iterating.(As the name suggests obviously)\n",
        "        d=dict()\n",
        "        #this dictionary contains the frequency of all the elements in our current_doc.\n",
        "        for word in current_doc:\n",
        "            if word in d.keys():\n",
        "                d[word]+=1\n",
        "            else:\n",
        "                d[word]=1\n",
        "        #dictionary created\n",
        "        for j in range(len(features)):\n",
        "            #now for each feature in features we will insert the value of the dictionary for the corresponding. that is,\n",
        "            #the frequency of each feature in that current document.\n",
        "            if features[j] in d.keys():\n",
        "                modified_data[i][j]=d[features[j]]\n",
        "            else:\n",
        "                #if the current feature is not in the dictionary, it will remain 0 in the modified_data 2D matrix\n",
        "                continue\n",
        "        count+=1\n",
        "        print(\"progress: \", (count*100)/max_count, \"%\")\n",
        "        #This statement just prints the progress of our data_modifier function.\n",
        "    #finally I have returned the modified array.\n",
        "    return modified_data\n",
        "#this function takes some time to process because i have considered nearly 3000 features and apart from that we have so many\n",
        "#documents which contains so many words. so the algorithm has to go through each word in features list for each word in a perticular\n",
        "#document. and this needs to be done because I think there is probably no other way to create such a modified array from x_data."
      ],
      "metadata": {
        "id": "1Hbsu2wzfthK"
      },
      "execution_count": 32,
      "outputs": []
    },
    {
      "cell_type": "code",
      "source": [
        "train_doc_modified = data_modifier(traindoc, features)"
      ],
      "metadata": {
        "id": "1P9rig6UmS5D"
      },
      "execution_count": null,
      "outputs": []
    },
    {
      "cell_type": "code",
      "source": [
        "test_doc_modified = data_modifier(testdoc, features)"
      ],
      "metadata": {
        "id": "F-tufQmsmWUb"
      },
      "execution_count": null,
      "outputs": []
    },
    {
      "cell_type": "code",
      "source": [
        "#first trying out the inbuilt Multinomial naive bayes classifier.\n",
        "clf=MultinomialNB()\n",
        "clf.fit(train_doc_modified, traincategory)\n",
        "clf.score(test_doc_modified, testcategory)\n",
        "#it seems like a descent score to me beacause we haven't used real text classification algorithms like NLP and all.\n",
        "#If you want a the best possible accuracy, increase the number of features in the 13th cell to around 50,000.\n",
        "#you will get nearly 90 percent of accuracy.but i do not recommend it as the 49999th element will have the frequency of just 2.\n",
        "#and such a feature won't help us much for the classification."
      ],
      "metadata": {
        "colab": {
          "base_uri": "https://localhost:8080/"
        },
        "id": "GRymN4_zm99L",
        "outputId": "df4a09aa-523f-42c4-fe5c-4b54139e816b"
      },
      "execution_count": 35,
      "outputs": [
        {
          "output_type": "execute_result",
          "data": {
            "text/plain": [
              "0.8829170829170829"
            ]
          },
          "metadata": {},
          "execution_count": 35
        }
      ]
    },
    {
      "cell_type": "code",
      "source": [
        "y_pred=clf.predict(test_doc_modified)"
      ],
      "metadata": {
        "id": "vqwWMj2Nob7H"
      },
      "execution_count": 36,
      "outputs": []
    },
    {
      "cell_type": "code",
      "source": [
        "from sklearn.naive_bayes import MultinomialNB\n",
        "\n",
        "model = MultinomialNB()\n",
        "model.fit(train_doc_modified, traincategory)"
      ],
      "metadata": {
        "colab": {
          "base_uri": "https://localhost:8080/",
          "height": 74
        },
        "id": "y2tIhVW6qTPN",
        "outputId": "1c32ec90-21f9-44ac-86b3-048eeb742677"
      },
      "execution_count": 37,
      "outputs": [
        {
          "output_type": "execute_result",
          "data": {
            "text/plain": [
              "MultinomialNB()"
            ],
            "text/html": [
              "<style>#sk-container-id-1 {color: black;background-color: white;}#sk-container-id-1 pre{padding: 0;}#sk-container-id-1 div.sk-toggleable {background-color: white;}#sk-container-id-1 label.sk-toggleable__label {cursor: pointer;display: block;width: 100%;margin-bottom: 0;padding: 0.3em;box-sizing: border-box;text-align: center;}#sk-container-id-1 label.sk-toggleable__label-arrow:before {content: \"▸\";float: left;margin-right: 0.25em;color: #696969;}#sk-container-id-1 label.sk-toggleable__label-arrow:hover:before {color: black;}#sk-container-id-1 div.sk-estimator:hover label.sk-toggleable__label-arrow:before {color: black;}#sk-container-id-1 div.sk-toggleable__content {max-height: 0;max-width: 0;overflow: hidden;text-align: left;background-color: #f0f8ff;}#sk-container-id-1 div.sk-toggleable__content pre {margin: 0.2em;color: black;border-radius: 0.25em;background-color: #f0f8ff;}#sk-container-id-1 input.sk-toggleable__control:checked~div.sk-toggleable__content {max-height: 200px;max-width: 100%;overflow: auto;}#sk-container-id-1 input.sk-toggleable__control:checked~label.sk-toggleable__label-arrow:before {content: \"▾\";}#sk-container-id-1 div.sk-estimator input.sk-toggleable__control:checked~label.sk-toggleable__label {background-color: #d4ebff;}#sk-container-id-1 div.sk-label input.sk-toggleable__control:checked~label.sk-toggleable__label {background-color: #d4ebff;}#sk-container-id-1 input.sk-hidden--visually {border: 0;clip: rect(1px 1px 1px 1px);clip: rect(1px, 1px, 1px, 1px);height: 1px;margin: -1px;overflow: hidden;padding: 0;position: absolute;width: 1px;}#sk-container-id-1 div.sk-estimator {font-family: monospace;background-color: #f0f8ff;border: 1px dotted black;border-radius: 0.25em;box-sizing: border-box;margin-bottom: 0.5em;}#sk-container-id-1 div.sk-estimator:hover {background-color: #d4ebff;}#sk-container-id-1 div.sk-parallel-item::after {content: \"\";width: 100%;border-bottom: 1px solid gray;flex-grow: 1;}#sk-container-id-1 div.sk-label:hover label.sk-toggleable__label {background-color: #d4ebff;}#sk-container-id-1 div.sk-serial::before {content: \"\";position: absolute;border-left: 1px solid gray;box-sizing: border-box;top: 0;bottom: 0;left: 50%;z-index: 0;}#sk-container-id-1 div.sk-serial {display: flex;flex-direction: column;align-items: center;background-color: white;padding-right: 0.2em;padding-left: 0.2em;position: relative;}#sk-container-id-1 div.sk-item {position: relative;z-index: 1;}#sk-container-id-1 div.sk-parallel {display: flex;align-items: stretch;justify-content: center;background-color: white;position: relative;}#sk-container-id-1 div.sk-item::before, #sk-container-id-1 div.sk-parallel-item::before {content: \"\";position: absolute;border-left: 1px solid gray;box-sizing: border-box;top: 0;bottom: 0;left: 50%;z-index: -1;}#sk-container-id-1 div.sk-parallel-item {display: flex;flex-direction: column;z-index: 1;position: relative;background-color: white;}#sk-container-id-1 div.sk-parallel-item:first-child::after {align-self: flex-end;width: 50%;}#sk-container-id-1 div.sk-parallel-item:last-child::after {align-self: flex-start;width: 50%;}#sk-container-id-1 div.sk-parallel-item:only-child::after {width: 0;}#sk-container-id-1 div.sk-dashed-wrapped {border: 1px dashed gray;margin: 0 0.4em 0.5em 0.4em;box-sizing: border-box;padding-bottom: 0.4em;background-color: white;}#sk-container-id-1 div.sk-label label {font-family: monospace;font-weight: bold;display: inline-block;line-height: 1.2em;}#sk-container-id-1 div.sk-label-container {text-align: center;}#sk-container-id-1 div.sk-container {/* jupyter's `normalize.less` sets `[hidden] { display: none; }` but bootstrap.min.css set `[hidden] { display: none !important; }` so we also need the `!important` here to be able to override the default hidden behavior on the sphinx rendered scikit-learn.org. See: https://github.com/scikit-learn/scikit-learn/issues/21755 */display: inline-block !important;position: relative;}#sk-container-id-1 div.sk-text-repr-fallback {display: none;}</style><div id=\"sk-container-id-1\" class=\"sk-top-container\"><div class=\"sk-text-repr-fallback\"><pre>MultinomialNB()</pre><b>In a Jupyter environment, please rerun this cell to show the HTML representation or trust the notebook. <br />On GitHub, the HTML representation is unable to render, please try loading this page with nbviewer.org.</b></div><div class=\"sk-container\" hidden><div class=\"sk-item\"><div class=\"sk-estimator sk-toggleable\"><input class=\"sk-toggleable__control sk-hidden--visually\" id=\"sk-estimator-id-1\" type=\"checkbox\" checked><label for=\"sk-estimator-id-1\" class=\"sk-toggleable__label sk-toggleable__label-arrow\">MultinomialNB</label><div class=\"sk-toggleable__content\"><pre>MultinomialNB()</pre></div></div></div></div></div>"
            ]
          },
          "metadata": {},
          "execution_count": 37
        }
      ]
    },
    {
      "cell_type": "code",
      "source": [
        "from sklearn.metrics import classification_report\n",
        "\n",
        "y_pred = model.predict(test_doc_modified)\n",
        "\n",
        "print(classification_report(testcategory, y_pred))"
      ],
      "metadata": {
        "colab": {
          "base_uri": "https://localhost:8080/"
        },
        "id": "Ckczvjkzofzy",
        "outputId": "225edd9c-9016-43c9-a0bc-ab6aa43617ea"
      },
      "execution_count": 38,
      "outputs": [
        {
          "output_type": "stream",
          "name": "stdout",
          "text": [
            "              precision    recall  f1-score   support\n",
            "\n",
            "           1       0.77      0.75      0.76       261\n",
            "           2       0.98      0.96      0.97       248\n",
            "           3       0.82      0.94      0.88       254\n",
            "           4       0.97      0.95      0.96       260\n",
            "           5       0.82      0.89      0.85       266\n",
            "           6       0.98      0.93      0.95       265\n",
            "           7       0.82      0.85      0.83       247\n",
            "           8       0.87      0.90      0.89       227\n",
            "           9       0.81      0.85      0.83       288\n",
            "          10       0.94      0.74      0.83       235\n",
            "          11       0.90      0.91      0.91       246\n",
            "          12       0.96      0.95      0.96       257\n",
            "          13       0.95      0.90      0.93       235\n",
            "          14       0.75      0.87      0.81       239\n",
            "          15       0.94      0.95      0.94       249\n",
            "          16       0.89      0.86      0.88       257\n",
            "          17       0.89      0.94      0.91       240\n",
            "          18       0.71      0.53      0.60       243\n",
            "          19       0.98      1.00      0.99       249\n",
            "          20       0.94      0.97      0.95       239\n",
            "\n",
            "    accuracy                           0.88      5005\n",
            "   macro avg       0.88      0.88      0.88      5005\n",
            "weighted avg       0.88      0.88      0.88      5005\n",
            "\n"
          ]
        }
      ]
    },
    {
      "cell_type": "code",
      "source": [
        "from sklearn.neighbors import KNeighborsClassifier\n",
        "\n",
        "# Create an instance of the KNN model\n",
        "knn_model = KNeighborsClassifier(n_neighbors=120)  # 'n_neighbors' specifies the number of neighbors to consider\n",
        "\n",
        "# Train the model\n",
        "knn_model.fit(train_doc_modified, traincategory)"
      ],
      "metadata": {
        "colab": {
          "base_uri": "https://localhost:8080/",
          "height": 74
        },
        "id": "WDq3MYl1qsx9",
        "outputId": "46b00b9b-6525-4f5b-f13f-c4a56e549e06"
      },
      "execution_count": 47,
      "outputs": [
        {
          "output_type": "execute_result",
          "data": {
            "text/plain": [
              "KNeighborsClassifier(n_neighbors=120)"
            ],
            "text/html": [
              "<style>#sk-container-id-6 {color: black;background-color: white;}#sk-container-id-6 pre{padding: 0;}#sk-container-id-6 div.sk-toggleable {background-color: white;}#sk-container-id-6 label.sk-toggleable__label {cursor: pointer;display: block;width: 100%;margin-bottom: 0;padding: 0.3em;box-sizing: border-box;text-align: center;}#sk-container-id-6 label.sk-toggleable__label-arrow:before {content: \"▸\";float: left;margin-right: 0.25em;color: #696969;}#sk-container-id-6 label.sk-toggleable__label-arrow:hover:before {color: black;}#sk-container-id-6 div.sk-estimator:hover label.sk-toggleable__label-arrow:before {color: black;}#sk-container-id-6 div.sk-toggleable__content {max-height: 0;max-width: 0;overflow: hidden;text-align: left;background-color: #f0f8ff;}#sk-container-id-6 div.sk-toggleable__content pre {margin: 0.2em;color: black;border-radius: 0.25em;background-color: #f0f8ff;}#sk-container-id-6 input.sk-toggleable__control:checked~div.sk-toggleable__content {max-height: 200px;max-width: 100%;overflow: auto;}#sk-container-id-6 input.sk-toggleable__control:checked~label.sk-toggleable__label-arrow:before {content: \"▾\";}#sk-container-id-6 div.sk-estimator input.sk-toggleable__control:checked~label.sk-toggleable__label {background-color: #d4ebff;}#sk-container-id-6 div.sk-label input.sk-toggleable__control:checked~label.sk-toggleable__label {background-color: #d4ebff;}#sk-container-id-6 input.sk-hidden--visually {border: 0;clip: rect(1px 1px 1px 1px);clip: rect(1px, 1px, 1px, 1px);height: 1px;margin: -1px;overflow: hidden;padding: 0;position: absolute;width: 1px;}#sk-container-id-6 div.sk-estimator {font-family: monospace;background-color: #f0f8ff;border: 1px dotted black;border-radius: 0.25em;box-sizing: border-box;margin-bottom: 0.5em;}#sk-container-id-6 div.sk-estimator:hover {background-color: #d4ebff;}#sk-container-id-6 div.sk-parallel-item::after {content: \"\";width: 100%;border-bottom: 1px solid gray;flex-grow: 1;}#sk-container-id-6 div.sk-label:hover label.sk-toggleable__label {background-color: #d4ebff;}#sk-container-id-6 div.sk-serial::before {content: \"\";position: absolute;border-left: 1px solid gray;box-sizing: border-box;top: 0;bottom: 0;left: 50%;z-index: 0;}#sk-container-id-6 div.sk-serial {display: flex;flex-direction: column;align-items: center;background-color: white;padding-right: 0.2em;padding-left: 0.2em;position: relative;}#sk-container-id-6 div.sk-item {position: relative;z-index: 1;}#sk-container-id-6 div.sk-parallel {display: flex;align-items: stretch;justify-content: center;background-color: white;position: relative;}#sk-container-id-6 div.sk-item::before, #sk-container-id-6 div.sk-parallel-item::before {content: \"\";position: absolute;border-left: 1px solid gray;box-sizing: border-box;top: 0;bottom: 0;left: 50%;z-index: -1;}#sk-container-id-6 div.sk-parallel-item {display: flex;flex-direction: column;z-index: 1;position: relative;background-color: white;}#sk-container-id-6 div.sk-parallel-item:first-child::after {align-self: flex-end;width: 50%;}#sk-container-id-6 div.sk-parallel-item:last-child::after {align-self: flex-start;width: 50%;}#sk-container-id-6 div.sk-parallel-item:only-child::after {width: 0;}#sk-container-id-6 div.sk-dashed-wrapped {border: 1px dashed gray;margin: 0 0.4em 0.5em 0.4em;box-sizing: border-box;padding-bottom: 0.4em;background-color: white;}#sk-container-id-6 div.sk-label label {font-family: monospace;font-weight: bold;display: inline-block;line-height: 1.2em;}#sk-container-id-6 div.sk-label-container {text-align: center;}#sk-container-id-6 div.sk-container {/* jupyter's `normalize.less` sets `[hidden] { display: none; }` but bootstrap.min.css set `[hidden] { display: none !important; }` so we also need the `!important` here to be able to override the default hidden behavior on the sphinx rendered scikit-learn.org. See: https://github.com/scikit-learn/scikit-learn/issues/21755 */display: inline-block !important;position: relative;}#sk-container-id-6 div.sk-text-repr-fallback {display: none;}</style><div id=\"sk-container-id-6\" class=\"sk-top-container\"><div class=\"sk-text-repr-fallback\"><pre>KNeighborsClassifier(n_neighbors=120)</pre><b>In a Jupyter environment, please rerun this cell to show the HTML representation or trust the notebook. <br />On GitHub, the HTML representation is unable to render, please try loading this page with nbviewer.org.</b></div><div class=\"sk-container\" hidden><div class=\"sk-item\"><div class=\"sk-estimator sk-toggleable\"><input class=\"sk-toggleable__control sk-hidden--visually\" id=\"sk-estimator-id-6\" type=\"checkbox\" checked><label for=\"sk-estimator-id-6\" class=\"sk-toggleable__label sk-toggleable__label-arrow\">KNeighborsClassifier</label><div class=\"sk-toggleable__content\"><pre>KNeighborsClassifier(n_neighbors=120)</pre></div></div></div></div></div>"
            ]
          },
          "metadata": {},
          "execution_count": 47
        }
      ]
    },
    {
      "cell_type": "code",
      "source": [
        "from sklearn.metrics import classification_report\n",
        "\n",
        "y_pred = knn_model.predict(test_doc_modified)\n",
        "\n",
        "print(classification_report(testcategory, y_pred))"
      ],
      "metadata": {
        "colab": {
          "base_uri": "https://localhost:8080/"
        },
        "id": "CZxXQCmpsVD2",
        "outputId": "eb200354-3fee-4663-8739-11dc3e4bc6ce"
      },
      "execution_count": 48,
      "outputs": [
        {
          "output_type": "stream",
          "name": "stdout",
          "text": [
            "              precision    recall  f1-score   support\n",
            "\n",
            "           1       0.87      0.18      0.30       261\n",
            "           2       0.99      0.48      0.65       248\n",
            "           3       0.14      1.00      0.25       254\n",
            "           4       0.52      0.95      0.67       260\n",
            "           5       0.64      0.17      0.27       266\n",
            "           6       0.91      0.47      0.62       265\n",
            "           7       0.21      0.97      0.35       247\n",
            "           8       0.95      0.15      0.27       227\n",
            "           9       0.89      0.14      0.25       288\n",
            "          10       0.86      0.46      0.60       235\n",
            "          11       0.97      0.44      0.61       246\n",
            "          12       0.95      0.21      0.34       257\n",
            "          13       0.98      0.39      0.56       235\n",
            "          14       0.81      0.30      0.43       239\n",
            "          15       0.97      0.45      0.62       249\n",
            "          16       0.95      0.47      0.63       257\n",
            "          17       0.94      0.28      0.43       240\n",
            "          18       0.66      0.10      0.18       243\n",
            "          19       0.99      1.00      1.00       249\n",
            "          20       0.89      0.31      0.46       239\n",
            "\n",
            "    accuracy                           0.45      5005\n",
            "   macro avg       0.81      0.45      0.47      5005\n",
            "weighted avg       0.80      0.45      0.47      5005\n",
            "\n"
          ]
        }
      ]
    },
    {
      "cell_type": "code",
      "source": [],
      "metadata": {
        "id": "Kk920wC7sgp7"
      },
      "execution_count": null,
      "outputs": []
    }
  ]
}